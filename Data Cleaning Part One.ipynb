{
 "cells": [
  {
   "cell_type": "code",
   "execution_count": 4,
   "metadata": {},
   "outputs": [],
   "source": [
    "import pandas as pd\n",
    "import numpy as np\n",
    "import datetime\n",
    "from geopy.distance import geodesic"
   ]
  },
  {
   "cell_type": "code",
   "execution_count": 5,
   "metadata": {},
   "outputs": [],
   "source": [
    "train_data = pd.read_csv('train_data.csv')"
   ]
  },
  {
   "cell_type": "code",
   "execution_count": 6,
   "metadata": {
    "scrolled": true
   },
   "outputs": [
    {
     "name": "stdout",
     "output_type": "stream",
     "text": [
      "<class 'pandas.core.frame.DataFrame'>\n",
      "RangeIndex: 500000 entries, 0 to 499999\n",
      "Data columns (total 76 columns):\n",
      "Unnamed: 0    500000 non-null int64\n",
      "sid           500000 non-null int64\n",
      "pid           336021 non-null float64\n",
      "req_time      500000 non-null object\n",
      "o             500000 non-null object\n",
      "d             500000 non-null object\n",
      "plan_time     491054 non-null object\n",
      "plans         491054 non-null object\n",
      "p0            336021 non-null float64\n",
      "p1            336021 non-null float64\n",
      "p2            336021 non-null float64\n",
      "p3            336021 non-null float64\n",
      "p4            336021 non-null float64\n",
      "p5            336021 non-null float64\n",
      "p6            336021 non-null float64\n",
      "p7            336021 non-null float64\n",
      "p8            336021 non-null float64\n",
      "p9            336021 non-null float64\n",
      "p10           336021 non-null float64\n",
      "p11           336021 non-null float64\n",
      "p12           336021 non-null float64\n",
      "p13           336021 non-null float64\n",
      "p14           336021 non-null float64\n",
      "p15           336021 non-null float64\n",
      "p16           336021 non-null float64\n",
      "p17           336021 non-null float64\n",
      "p18           336021 non-null float64\n",
      "p19           336021 non-null float64\n",
      "p20           336021 non-null float64\n",
      "p21           336021 non-null float64\n",
      "p22           336021 non-null float64\n",
      "p23           336021 non-null float64\n",
      "p24           336021 non-null float64\n",
      "p25           336021 non-null float64\n",
      "p26           336021 non-null float64\n",
      "p27           336021 non-null float64\n",
      "p28           336021 non-null float64\n",
      "p29           336021 non-null float64\n",
      "p30           336021 non-null float64\n",
      "p31           336021 non-null float64\n",
      "p32           336021 non-null float64\n",
      "p33           336021 non-null float64\n",
      "p34           336021 non-null float64\n",
      "p35           336021 non-null float64\n",
      "p36           336021 non-null float64\n",
      "p37           336021 non-null float64\n",
      "p38           336021 non-null float64\n",
      "p39           336021 non-null float64\n",
      "p40           336021 non-null float64\n",
      "p41           336021 non-null float64\n",
      "p42           336021 non-null float64\n",
      "p43           336021 non-null float64\n",
      "p44           336021 non-null float64\n",
      "p45           336021 non-null float64\n",
      "p46           336021 non-null float64\n",
      "p47           336021 non-null float64\n",
      "p48           336021 non-null float64\n",
      "p49           336021 non-null float64\n",
      "p50           336021 non-null float64\n",
      "p51           336021 non-null float64\n",
      "p52           336021 non-null float64\n",
      "p53           336021 non-null float64\n",
      "p54           336021 non-null float64\n",
      "p55           336021 non-null float64\n",
      "p56           336021 non-null float64\n",
      "p57           336021 non-null float64\n",
      "p58           336021 non-null float64\n",
      "p59           336021 non-null float64\n",
      "p60           336021 non-null float64\n",
      "p61           336021 non-null float64\n",
      "p62           336021 non-null float64\n",
      "p63           336021 non-null float64\n",
      "p64           336021 non-null float64\n",
      "p65           336021 non-null float64\n",
      "click_time    453336 non-null object\n",
      "click_mode    453336 non-null float64\n",
      "dtypes: float64(68), int64(2), object(6)\n",
      "memory usage: 289.9+ MB\n"
     ]
    }
   ],
   "source": [
    "train_data.info()"
   ]
  },
  {
   "cell_type": "markdown",
   "metadata": {},
   "source": [
    "# Origin and Destination Distance Calculation"
   ]
  },
  {
   "cell_type": "markdown",
   "metadata": {},
   "source": [
    "#### Please install geopy package when running the code below "
   ]
  },
  {
   "cell_type": "code",
   "execution_count": 7,
   "metadata": {},
   "outputs": [],
   "source": [
    "distance = []\n",
    "for i in range(train_data['o'].count()):\n",
    "    lng1,lat1 = map(float,train_data['o'].iloc[i].split(','))\n",
    "    lng2,lat2 = map(float,train_data['d'].iloc[i].split(','))\n",
    "    #print(lng1, lat1,lng2,lat2)\n",
    "    distance.append(int(geodesic((lat1, lng1),(lat2,lng2)).m))\n",
    "    \n",
    "distance = pd.DataFrame(data = distance,columns = ['Distance'])"
   ]
  },
  {
   "cell_type": "markdown",
   "metadata": {},
   "source": [
    "# Convert req_time and click_time to Datetime format"
   ]
  },
  {
   "cell_type": "markdown",
   "metadata": {},
   "source": [
    "#### Please install datetime package when running the code below"
   ]
  },
  {
   "cell_type": "markdown",
   "metadata": {},
   "source": [
    "####  Req_time"
   ]
  },
  {
   "cell_type": "code",
   "execution_count": 8,
   "metadata": {},
   "outputs": [],
   "source": [
    "#New list saving the converted value\n",
    "req_datetime = []\n",
    "\n",
    "#Loop through data and convert all req_time:\n",
    "for i in range(train_data['req_time'].count()):\n",
    "    \n",
    "    req_datetime.append(datetime.datetime.strptime(train_data['req_time'].iloc[i], \"%Y-%m-%d %H:%M:%S\"))\n",
    "    \n",
    "#Change list to dataframe and merge with 'sid' column for future merging with click_time which has missing value\n",
    "req_datetime = pd.concat((pd.DataFrame(data = req_datetime, columns = ['req_datetime']),train_data['sid']),axis = 1)"
   ]
  },
  {
   "cell_type": "markdown",
   "metadata": {},
   "source": [
    "#### Click_time "
   ]
  },
  {
   "cell_type": "code",
   "execution_count": 9,
   "metadata": {},
   "outputs": [],
   "source": [
    "#New list savong the converted value\n",
    "click_datetime = []\n",
    "\n",
    "#As missing value exist, build a sid list saving the sid whose click_time could be converted\n",
    "sid = []\n",
    "\n",
    "#Loop through all valid click_time and save the converted value and related sid into lists.\n",
    "for i in range(train_data['req_time'].count()):\n",
    "    if type(train_data['click_time'].iloc[i]) != np.float:\n",
    "        click_datetime.append(datetime.datetime.strptime(train_data['click_time'].iloc[i], \"%Y-%m-%d %H:%M:%S\"))\n",
    "        sid.append(train_data['sid'].iloc[i])\n",
    "        \n",
    "#Change list to dataframe and merge with 'sid' list\n",
    "click_datetime = pd.concat((pd.DataFrame(data = click_datetime, columns = ['click_datetime']),pd.DataFrame(sid,columns = ['sid'])),axis = 1)"
   ]
  },
  {
   "cell_type": "markdown",
   "metadata": {},
   "source": [
    "#### Merge req_datetime and click_datetime and calculate the time difference"
   ]
  },
  {
   "cell_type": "code",
   "execution_count": 11,
   "metadata": {},
   "outputs": [
    {
     "name": "stdout",
     "output_type": "stream",
     "text": [
      "The total number of time difference is:   453336\n",
      "The average value of time difference is:   0 days 00:02:08.777149\n",
      "The max value of time difference is:   38 days 23:57:59\n",
      "The min value of time difference is:   0 days 00:00:00\n",
      "The mode value of the time difference is:   0 days 00:00:03\n"
     ]
    }
   ],
   "source": [
    "time = pd.merge(req_datetime, click_datetime, how = 'left',on = 'sid')\n",
    "\n",
    "time['difference'] = time['click_datetime'] - time['req_datetime']\n",
    "\n",
    "print('The total number of time difference is:  ', time['difference'].count())\n",
    "print('The average value of time difference is:  ', time['difference'].mean())\n",
    "print('The max value of time difference is:  ', time['difference'].max())\n",
    "print('The min value of time difference is:  ', time['difference'].min())\n",
    "print('The mode value of the time difference is:  ', time['difference'].mode()[0])"
   ]
  },
  {
   "cell_type": "code",
   "execution_count": 26,
   "metadata": {},
   "outputs": [
    {
     "name": "stdout",
     "output_type": "stream",
     "text": [
      "The total number of time difference is:   500000\n"
     ]
    }
   ],
   "source": [
    "#Fill the missing value with mode value\n",
    "time['difference'] = time['difference'].fillna(time['difference'].mode()[0])\n",
    "print('The total number of time difference is:  ', time['difference'].count())"
   ]
  },
  {
   "cell_type": "markdown",
   "metadata": {},
   "source": [
    "# Merge distance and time difference with train_data"
   ]
  },
  {
   "cell_type": "code",
   "execution_count": 28,
   "metadata": {},
   "outputs": [],
   "source": [
    "train_data = pd.concat((train_data, distance), axis = 1)"
   ]
  },
  {
   "cell_type": "code",
   "execution_count": 29,
   "metadata": {},
   "outputs": [],
   "source": [
    "train_data = pd.concat((train_data, time['difference']), axis = 1)"
   ]
  },
  {
   "cell_type": "code",
   "execution_count": 33,
   "metadata": {},
   "outputs": [
    {
     "data": {
      "text/html": [
       "<div>\n",
       "<style scoped>\n",
       "    .dataframe tbody tr th:only-of-type {\n",
       "        vertical-align: middle;\n",
       "    }\n",
       "\n",
       "    .dataframe tbody tr th {\n",
       "        vertical-align: top;\n",
       "    }\n",
       "\n",
       "    .dataframe thead th {\n",
       "        text-align: right;\n",
       "    }\n",
       "</style>\n",
       "<table border=\"1\" class=\"dataframe\">\n",
       "  <thead>\n",
       "    <tr style=\"text-align: right;\">\n",
       "      <th></th>\n",
       "      <th>Unnamed: 0</th>\n",
       "      <th>sid</th>\n",
       "      <th>pid</th>\n",
       "      <th>req_time</th>\n",
       "      <th>o</th>\n",
       "      <th>d</th>\n",
       "      <th>plan_time</th>\n",
       "      <th>plans</th>\n",
       "      <th>p0</th>\n",
       "      <th>p1</th>\n",
       "      <th>...</th>\n",
       "      <th>p60</th>\n",
       "      <th>p61</th>\n",
       "      <th>p62</th>\n",
       "      <th>p63</th>\n",
       "      <th>p64</th>\n",
       "      <th>p65</th>\n",
       "      <th>click_time</th>\n",
       "      <th>click_mode</th>\n",
       "      <th>Distance</th>\n",
       "      <th>difference</th>\n",
       "    </tr>\n",
       "  </thead>\n",
       "  <tbody>\n",
       "    <tr>\n",
       "      <th>0</th>\n",
       "      <td>0</td>\n",
       "      <td>3000821</td>\n",
       "      <td>NaN</td>\n",
       "      <td>2018-11-02 17:54:30</td>\n",
       "      <td>116.29,39.97</td>\n",
       "      <td>116.32,39.96</td>\n",
       "      <td>2018-11-02 17:54:30</td>\n",
       "      <td>[{\"distance\": 5219, \"price\": 300, \"eta\": 1367,...</td>\n",
       "      <td>NaN</td>\n",
       "      <td>NaN</td>\n",
       "      <td>...</td>\n",
       "      <td>NaN</td>\n",
       "      <td>NaN</td>\n",
       "      <td>NaN</td>\n",
       "      <td>NaN</td>\n",
       "      <td>NaN</td>\n",
       "      <td>NaN</td>\n",
       "      <td>2018-11-02 17:54:32</td>\n",
       "      <td>9.0</td>\n",
       "      <td>2793</td>\n",
       "      <td>00:00:02</td>\n",
       "    </tr>\n",
       "    <tr>\n",
       "      <th>1</th>\n",
       "      <td>1</td>\n",
       "      <td>3085857</td>\n",
       "      <td>210736.0</td>\n",
       "      <td>2018-11-16 10:53:10</td>\n",
       "      <td>116.39,39.84</td>\n",
       "      <td>116.33,39.79</td>\n",
       "      <td>2018-11-16 10:53:10</td>\n",
       "      <td>[{\"distance\": 13864, \"price\": 600, \"eta\": 3221...</td>\n",
       "      <td>0.0</td>\n",
       "      <td>0.0</td>\n",
       "      <td>...</td>\n",
       "      <td>0.0</td>\n",
       "      <td>0.0</td>\n",
       "      <td>0.0</td>\n",
       "      <td>1.0</td>\n",
       "      <td>0.0</td>\n",
       "      <td>0.0</td>\n",
       "      <td>2018-11-16 10:53:32</td>\n",
       "      <td>1.0</td>\n",
       "      <td>7563</td>\n",
       "      <td>00:00:22</td>\n",
       "    </tr>\n",
       "    <tr>\n",
       "      <th>2</th>\n",
       "      <td>2</td>\n",
       "      <td>2944522</td>\n",
       "      <td>NaN</td>\n",
       "      <td>2018-10-06 10:33:58</td>\n",
       "      <td>116.31,39.93</td>\n",
       "      <td>116.27,40.00</td>\n",
       "      <td>2018-10-06 10:33:58</td>\n",
       "      <td>[{\"distance\": 12294, \"price\": 400, \"eta\": 2472...</td>\n",
       "      <td>NaN</td>\n",
       "      <td>NaN</td>\n",
       "      <td>...</td>\n",
       "      <td>NaN</td>\n",
       "      <td>NaN</td>\n",
       "      <td>NaN</td>\n",
       "      <td>NaN</td>\n",
       "      <td>NaN</td>\n",
       "      <td>NaN</td>\n",
       "      <td>2018-10-06 10:34:23</td>\n",
       "      <td>9.0</td>\n",
       "      <td>8490</td>\n",
       "      <td>00:00:25</td>\n",
       "    </tr>\n",
       "    <tr>\n",
       "      <th>3</th>\n",
       "      <td>3</td>\n",
       "      <td>559931</td>\n",
       "      <td>202427.0</td>\n",
       "      <td>2018-11-23 14:54:11</td>\n",
       "      <td>116.27,39.88</td>\n",
       "      <td>116.39,39.90</td>\n",
       "      <td>2018-11-23 14:54:11</td>\n",
       "      <td>[{\"distance\": 14853, \"price\": 1700, \"eta\": 291...</td>\n",
       "      <td>1.0</td>\n",
       "      <td>0.0</td>\n",
       "      <td>...</td>\n",
       "      <td>0.0</td>\n",
       "      <td>0.0</td>\n",
       "      <td>0.0</td>\n",
       "      <td>0.0</td>\n",
       "      <td>0.0</td>\n",
       "      <td>0.0</td>\n",
       "      <td>2018-11-23 14:54:18</td>\n",
       "      <td>1.0</td>\n",
       "      <td>10501</td>\n",
       "      <td>00:00:07</td>\n",
       "    </tr>\n",
       "    <tr>\n",
       "      <th>4</th>\n",
       "      <td>4</td>\n",
       "      <td>2819352</td>\n",
       "      <td>172251.0</td>\n",
       "      <td>2018-10-30 11:48:41</td>\n",
       "      <td>116.34,39.96</td>\n",
       "      <td>116.37,39.86</td>\n",
       "      <td>2018-10-30 11:48:41</td>\n",
       "      <td>[{\"distance\": 12882, \"price\": 600, \"eta\": 3211...</td>\n",
       "      <td>0.0</td>\n",
       "      <td>0.0</td>\n",
       "      <td>...</td>\n",
       "      <td>1.0</td>\n",
       "      <td>0.0</td>\n",
       "      <td>0.0</td>\n",
       "      <td>0.0</td>\n",
       "      <td>0.0</td>\n",
       "      <td>0.0</td>\n",
       "      <td>2018-10-30 11:49:04</td>\n",
       "      <td>7.0</td>\n",
       "      <td>11395</td>\n",
       "      <td>00:00:23</td>\n",
       "    </tr>\n",
       "  </tbody>\n",
       "</table>\n",
       "<p>5 rows × 78 columns</p>\n",
       "</div>"
      ],
      "text/plain": [
       "   Unnamed: 0      sid       pid             req_time             o  \\\n",
       "0           0  3000821       NaN  2018-11-02 17:54:30  116.29,39.97   \n",
       "1           1  3085857  210736.0  2018-11-16 10:53:10  116.39,39.84   \n",
       "2           2  2944522       NaN  2018-10-06 10:33:58  116.31,39.93   \n",
       "3           3   559931  202427.0  2018-11-23 14:54:11  116.27,39.88   \n",
       "4           4  2819352  172251.0  2018-10-30 11:48:41  116.34,39.96   \n",
       "\n",
       "              d            plan_time  \\\n",
       "0  116.32,39.96  2018-11-02 17:54:30   \n",
       "1  116.33,39.79  2018-11-16 10:53:10   \n",
       "2  116.27,40.00  2018-10-06 10:33:58   \n",
       "3  116.39,39.90  2018-11-23 14:54:11   \n",
       "4  116.37,39.86  2018-10-30 11:48:41   \n",
       "\n",
       "                                               plans   p0   p1     ...      \\\n",
       "0  [{\"distance\": 5219, \"price\": 300, \"eta\": 1367,...  NaN  NaN     ...       \n",
       "1  [{\"distance\": 13864, \"price\": 600, \"eta\": 3221...  0.0  0.0     ...       \n",
       "2  [{\"distance\": 12294, \"price\": 400, \"eta\": 2472...  NaN  NaN     ...       \n",
       "3  [{\"distance\": 14853, \"price\": 1700, \"eta\": 291...  1.0  0.0     ...       \n",
       "4  [{\"distance\": 12882, \"price\": 600, \"eta\": 3211...  0.0  0.0     ...       \n",
       "\n",
       "   p60  p61  p62  p63  p64  p65           click_time  click_mode  Distance  \\\n",
       "0  NaN  NaN  NaN  NaN  NaN  NaN  2018-11-02 17:54:32         9.0      2793   \n",
       "1  0.0  0.0  0.0  1.0  0.0  0.0  2018-11-16 10:53:32         1.0      7563   \n",
       "2  NaN  NaN  NaN  NaN  NaN  NaN  2018-10-06 10:34:23         9.0      8490   \n",
       "3  0.0  0.0  0.0  0.0  0.0  0.0  2018-11-23 14:54:18         1.0     10501   \n",
       "4  1.0  0.0  0.0  0.0  0.0  0.0  2018-10-30 11:49:04         7.0     11395   \n",
       "\n",
       "   difference  \n",
       "0    00:00:02  \n",
       "1    00:00:22  \n",
       "2    00:00:25  \n",
       "3    00:00:07  \n",
       "4    00:00:23  \n",
       "\n",
       "[5 rows x 78 columns]"
      ]
     },
     "execution_count": 33,
     "metadata": {},
     "output_type": "execute_result"
    }
   ],
   "source": [
    "train_data.head()"
   ]
  },
  {
   "cell_type": "markdown",
   "metadata": {},
   "source": [
    "####  Drop useless columns"
   ]
  },
  {
   "cell_type": "code",
   "execution_count": 36,
   "metadata": {},
   "outputs": [],
   "source": [
    "train_data.drop(['Unnamed: 0', 'plan_time','click_time','o','d'], inplace = True, axis = 1)\n",
    "\n",
    "# Note: Still missing values in pid, plans, p0-p65, click_mode"
   ]
  },
  {
   "cell_type": "code",
   "execution_count": 41,
   "metadata": {
    "scrolled": true
   },
   "outputs": [
    {
     "data": {
      "text/plain": [
       "p32           48.800224\n",
       "p23           48.800224\n",
       "p17           48.800224\n",
       "p18           48.800224\n",
       "p19           48.800224\n",
       "p20           48.800224\n",
       "p21           48.800224\n",
       "p22           48.800224\n",
       "p24           48.800224\n",
       "pid           48.800224\n",
       "p25           48.800224\n",
       "p26           48.800224\n",
       "p27           48.800224\n",
       "p28           48.800224\n",
       "p29           48.800224\n",
       "p30           48.800224\n",
       "p16           48.800224\n",
       "p15           48.800224\n",
       "p14           48.800224\n",
       "p13           48.800224\n",
       "p12           48.800224\n",
       "p11           48.800224\n",
       "p10           48.800224\n",
       "p9            48.800224\n",
       "p8            48.800224\n",
       "p7            48.800224\n",
       "p6            48.800224\n",
       "p5            48.800224\n",
       "p4            48.800224\n",
       "p3            48.800224\n",
       "                ...    \n",
       "p58           48.800224\n",
       "p57           48.800224\n",
       "p56           48.800224\n",
       "p55           48.800224\n",
       "p54           48.800224\n",
       "p53           48.800224\n",
       "p52           48.800224\n",
       "p51           48.800224\n",
       "p49           48.800224\n",
       "p48           48.800224\n",
       "p47           48.800224\n",
       "p46           48.800224\n",
       "p45           48.800224\n",
       "p44           48.800224\n",
       "p43           48.800224\n",
       "p42           48.800224\n",
       "p41           48.800224\n",
       "p40           48.800224\n",
       "p39           48.800224\n",
       "p38           48.800224\n",
       "p37           48.800224\n",
       "p36           48.800224\n",
       "p35           48.800224\n",
       "p65           48.800224\n",
       "click_mode    10.293469\n",
       "plans          1.821796\n",
       "req_time       0.000000\n",
       "difference     0.000000\n",
       "Distance       0.000000\n",
       "sid            0.000000\n",
       "Length: 73, dtype: float64"
      ]
     },
     "execution_count": 41,
     "metadata": {},
     "output_type": "execute_result"
    }
   ],
   "source": [
    "Missing_ratio = train_data.isnull().sum()/train_data.count() *100\n",
    "Missing_ratio = Missing_ratio.sort_values(ascending = False)\n",
    "Missing_ratio"
   ]
  },
  {
   "cell_type": "markdown",
   "metadata": {},
   "source": [
    "# Ideas in extracting data from 'plans' column "
   ]
  },
  {
   "cell_type": "code",
   "execution_count": 53,
   "metadata": {},
   "outputs": [],
   "source": [
    "plans = []\n",
    "sid = []\n",
    "for i in range(train_data['plans'].count()):\n",
    "    if type(train_data['plans'].iloc[i]) == str:\n",
    "        plans.append(eval(train_data['plans'].iloc[i]))\n",
    "        sid.append(train_data['sid'].iloc[i])"
   ]
  },
  {
   "cell_type": "code",
   "execution_count": 55,
   "metadata": {},
   "outputs": [
    {
     "data": {
      "text/plain": [
       "482265"
      ]
     },
     "execution_count": 55,
     "metadata": {},
     "output_type": "execute_result"
    }
   ],
   "source": []
  },
  {
   "cell_type": "code",
   "execution_count": null,
   "metadata": {},
   "outputs": [],
   "source": []
  }
 ],
 "metadata": {
  "kernelspec": {
   "display_name": "Python 3",
   "language": "python",
   "name": "python3"
  },
  "language_info": {
   "codemirror_mode": {
    "name": "ipython",
    "version": 3
   },
   "file_extension": ".py",
   "mimetype": "text/x-python",
   "name": "python",
   "nbconvert_exporter": "python",
   "pygments_lexer": "ipython3",
   "version": "3.6.6"
  }
 },
 "nbformat": 4,
 "nbformat_minor": 2
}
